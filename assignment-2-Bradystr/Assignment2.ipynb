{
 "cells": [
  {
   "cell_type": "markdown",
   "metadata": {
    "colab_type": "text",
    "id": "-ycSUdCI6y9U"
   },
   "source": [
    "# Assignment 2\n",
    "\n",
    "### Total : 32pts"
   ]
  },
  {
   "cell_type": "code",
   "execution_count": 11,
   "metadata": {},
   "outputs": [],
   "source": [
    "# write a program to print your name and student number using variables and an f-string\n"
   ]
  },
  {
   "cell_type": "markdown",
   "metadata": {},
   "source": [
    "Name: John Doe  \n",
    "Student #: W0123456"
   ]
  },
  {
   "cell_type": "markdown",
   "metadata": {
    "colab_type": "text",
    "id": "Wu4GRcHW6y9Z"
   },
   "source": [
    "### Part A - Write Code! (16pts)\n",
    "\n",
    "For each item below, determine the appropriate Python code to generate the desired output.\n",
    "\n",
    "---"
   ]
  },
  {
   "cell_type": "code",
   "execution_count": null,
   "metadata": {},
   "outputs": [],
   "source": [
    "# write a small program that will ask the user for a number and print out \"EVEN\" if the number is a even number and nothing if it is odd.\n",
    "# 1 pt"
   ]
  },
  {
   "cell_type": "code",
   "execution_count": null,
   "metadata": {},
   "outputs": [],
   "source": [
    "# write a small program that will ask a user for a single character and print out \"letter\" \n",
    "# if it is between the letters 'a' and 'z'\n",
    "# 2 pts"
   ]
  },
  {
   "cell_type": "code",
   "execution_count": null,
   "metadata": {},
   "outputs": [],
   "source": [
    "# ask a user to enter a number and if the number is '12345' print \"UNLOCKED!\" otherwise have it print \"ALARM!\"\n",
    "# 2 pts"
   ]
  },
  {
   "cell_type": "code",
   "execution_count": null,
   "metadata": {},
   "outputs": [],
   "source": [
    "# create a program that will ask a user to input an integer and then output whether the number is \"negative\", \"positive\" or \"zero\"\n",
    "# 3 pts"
   ]
  },
  {
   "cell_type": "code",
   "execution_count": null,
   "metadata": {},
   "outputs": [],
   "source": [
    "# create a program that solves that age old question, \n",
    "# \"Would you choose $1 Million dollars or get a single penny that doubles every day for a month?\"\n",
    "# (e.g. Day 1 = 1¢, Day 2 = 2¢, Day 3 = 4¢, ..., Day 30 = ?)\n",
    "# by calculating the total amount you would get on Day 30\n",
    "# 3 pts"
   ]
  },
  {
   "cell_type": "code",
   "execution_count": null,
   "metadata": {},
   "outputs": [],
   "source": [
    "# create a program that outputs the following pattern, not including the '#'s,\n",
    "# using loops (i.e. not individual print statements)\n",
    "# 5 pts\n",
    "\n",
    "#         o\n",
    "#        ooo\n",
    "#       ooooo\n",
    "#      ooooooo\n",
    "#     ooooooooo\n",
    "#    ooooooooooo\n",
    "#   ooooooooooooo\n",
    "#  ooooooooooooooo\n",
    "# ooooooooooooooooo\n",
    "#ooooooooooooooooooo\n",
    "# ooooooooooooooooo\n",
    "#  ooooooooooooooo\n",
    "#   ooooooooooooo\n",
    "#    ooooooooooo\n",
    "#     ooooooooo\n",
    "#      ooooooo\n",
    "#       ooooo\n",
    "#        ooo\n",
    "#         o\n"
   ]
  },
  {
   "cell_type": "markdown",
   "metadata": {},
   "source": [
    "---\n",
    "### Part B - Figure it out! (11pts)\n",
    "\n",
    "For the following, you will need to understand how the program works in order to solve the problem."
   ]
  },
  {
   "cell_type": "code",
   "execution_count": null,
   "metadata": {},
   "outputs": [],
   "source": [
    "# modify the following to output the odd numbers \"5 3 1 -1 -3 -5\"\n",
    "# 2 pts\n",
    "for i in range(0, 5):\n",
    "    print(i, end=' ')"
   ]
  },
  {
   "cell_type": "code",
   "execution_count": null,
   "metadata": {},
   "outputs": [],
   "source": [
    "# make a single change to make the following statement True\n",
    "# 1 pt\n",
    "10 <= 10 and (True or False) and not (4 < 5)"
   ]
  },
  {
   "cell_type": "code",
   "execution_count": null,
   "metadata": {},
   "outputs": [],
   "source": [
    "# the following program converts the number '1' to the day 'Sunday', \n",
    "# modify the program so that if the variable 'day' is between 1-7,\n",
    "# the program will output the corresponding day 'Sunday'-'Saturday'\n",
    "# 3 pts\n",
    "day = 1\n",
    "if day == 1:\n",
    "    day = \"Sunday\"\n",
    "print(day)"
   ]
  },
  {
   "cell_type": "code",
   "execution_count": null,
   "metadata": {},
   "outputs": [],
   "source": [
    "# determine what value to change the variable \"magic_num\" to in order to print out the message\n",
    "# 5 pts\n",
    "\n",
    "magic_num = 0\n",
    "\n",
    "# don't modify the following code\n",
    "check = 0\n",
    "while check < 129:\n",
    "    for i in range(0, 5):\n",
    "        magic_num -= 7\n",
    "    check += 9\n",
    "if magic_num == 0:\n",
    "    print(\"You found the magic number!\")\n",
    "else:\n",
    "    print(\"Not yet. Keep trying!\")"
   ]
  },
  {
   "cell_type": "markdown",
   "metadata": {},
   "source": [
    "---\n",
    "\n",
    "### Part C - Turtle (5pts)\n",
    "\n",
    "Create the following image using the Python \"Turtle\" library. \n",
    "\n",
    "<div style=\"width: 400px;\"><img src=\"img/spiral.png\" /></div>"
   ]
  },
  {
   "cell_type": "code",
   "execution_count": null,
   "metadata": {},
   "outputs": [],
   "source": []
  }
 ],
 "metadata": {
  "hide_input": false,
  "kernelspec": {
   "display_name": "Python 3",
   "language": "python",
   "name": "python3"
  },
  "language_info": {
   "codemirror_mode": {
    "name": "ipython",
    "version": 3
   },
   "file_extension": ".py",
   "mimetype": "text/x-python",
   "name": "python",
   "nbconvert_exporter": "python",
   "pygments_lexer": "ipython3",
   "version": "3.7.4"
  }
 },
 "nbformat": 4,
 "nbformat_minor": 2
}
